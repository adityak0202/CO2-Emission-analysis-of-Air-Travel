{
 "cells": [
  {
   "cell_type": "code",
   "execution_count": 2,
   "id": "80ac6bcd-d810-43dc-981c-d33cc59ea6ec",
   "metadata": {},
   "outputs": [],
   "source": [
    "import pandas as pd\n",
    "import numpy as np\n",
    "from matplotlib import pyplot as plt\n",
    "import seaborn as sns"
   ]
  },
  {
   "cell_type": "code",
   "execution_count": 3,
   "id": "30feb049-84a3-432a-9983-730ce538e027",
   "metadata": {},
   "outputs": [],
   "source": [
    "df = pd.read_csv('flights.csv')"
   ]
  },
  {
   "cell_type": "code",
   "execution_count": 5,
   "id": "2154078a-4d94-4df6-84c6-e346f4abc50d",
   "metadata": {},
   "outputs": [
    {
     "data": {
      "text/plain": [
       "(336776, 21)"
      ]
     },
     "execution_count": 5,
     "metadata": {},
     "output_type": "execute_result"
    }
   ],
   "source": [
    "df.shape"
   ]
  },
  {
   "cell_type": "code",
   "execution_count": 6,
   "id": "0bb6ed45-cf92-4039-b010-9e66038d5a1a",
   "metadata": {},
   "outputs": [
    {
     "data": {
      "text/plain": [
       "Index(['id', 'year', 'month', 'day', 'dep_time', 'sched_dep_time', 'dep_delay',\n",
       "       'arr_time', 'sched_arr_time', 'arr_delay', 'carrier', 'flight',\n",
       "       'tailnum', 'origin', 'dest', 'air_time', 'distance', 'hour', 'minute',\n",
       "       'time_hour', 'name'],\n",
       "      dtype='object')"
      ]
     },
     "execution_count": 6,
     "metadata": {},
     "output_type": "execute_result"
    }
   ],
   "source": [
    "df.columns"
   ]
  },
  {
   "cell_type": "code",
   "execution_count": 12,
   "id": "8b73d9db-b896-4123-93ee-a82538686d4c",
   "metadata": {
    "collapsed": true,
    "jupyter": {
     "outputs_hidden": true,
     "source_hidden": true
    }
   },
   "outputs": [
    {
     "data": {
      "text/html": [
       "<div>\n",
       "<style scoped>\n",
       "    .dataframe tbody tr th:only-of-type {\n",
       "        vertical-align: middle;\n",
       "    }\n",
       "\n",
       "    .dataframe tbody tr th {\n",
       "        vertical-align: top;\n",
       "    }\n",
       "\n",
       "    .dataframe thead th {\n",
       "        text-align: right;\n",
       "    }\n",
       "</style>\n",
       "<table border=\"1\" class=\"dataframe\">\n",
       "  <thead>\n",
       "    <tr style=\"text-align: right;\">\n",
       "      <th></th>\n",
       "      <th>count</th>\n",
       "      <th>mean</th>\n",
       "      <th>std</th>\n",
       "      <th>min</th>\n",
       "      <th>25%</th>\n",
       "      <th>50%</th>\n",
       "      <th>75%</th>\n",
       "      <th>max</th>\n",
       "    </tr>\n",
       "  </thead>\n",
       "  <tbody>\n",
       "    <tr>\n",
       "      <th>id</th>\n",
       "      <td>336776.0</td>\n",
       "      <td>168387.500000</td>\n",
       "      <td>97219.001466</td>\n",
       "      <td>0.0</td>\n",
       "      <td>84193.75</td>\n",
       "      <td>168387.5</td>\n",
       "      <td>252581.25</td>\n",
       "      <td>336775.0</td>\n",
       "    </tr>\n",
       "    <tr>\n",
       "      <th>year</th>\n",
       "      <td>336776.0</td>\n",
       "      <td>2013.000000</td>\n",
       "      <td>0.000000</td>\n",
       "      <td>2013.0</td>\n",
       "      <td>2013.00</td>\n",
       "      <td>2013.0</td>\n",
       "      <td>2013.00</td>\n",
       "      <td>2013.0</td>\n",
       "    </tr>\n",
       "    <tr>\n",
       "      <th>month</th>\n",
       "      <td>336776.0</td>\n",
       "      <td>6.548510</td>\n",
       "      <td>3.414457</td>\n",
       "      <td>1.0</td>\n",
       "      <td>4.00</td>\n",
       "      <td>7.0</td>\n",
       "      <td>10.00</td>\n",
       "      <td>12.0</td>\n",
       "    </tr>\n",
       "    <tr>\n",
       "      <th>day</th>\n",
       "      <td>336776.0</td>\n",
       "      <td>15.710787</td>\n",
       "      <td>8.768607</td>\n",
       "      <td>1.0</td>\n",
       "      <td>8.00</td>\n",
       "      <td>16.0</td>\n",
       "      <td>23.00</td>\n",
       "      <td>31.0</td>\n",
       "    </tr>\n",
       "    <tr>\n",
       "      <th>dep_time</th>\n",
       "      <td>328521.0</td>\n",
       "      <td>1349.109947</td>\n",
       "      <td>488.281791</td>\n",
       "      <td>1.0</td>\n",
       "      <td>907.00</td>\n",
       "      <td>1401.0</td>\n",
       "      <td>1744.00</td>\n",
       "      <td>2400.0</td>\n",
       "    </tr>\n",
       "    <tr>\n",
       "      <th>sched_dep_time</th>\n",
       "      <td>336776.0</td>\n",
       "      <td>1344.254840</td>\n",
       "      <td>467.335756</td>\n",
       "      <td>106.0</td>\n",
       "      <td>906.00</td>\n",
       "      <td>1359.0</td>\n",
       "      <td>1729.00</td>\n",
       "      <td>2359.0</td>\n",
       "    </tr>\n",
       "    <tr>\n",
       "      <th>dep_delay</th>\n",
       "      <td>328521.0</td>\n",
       "      <td>12.639070</td>\n",
       "      <td>40.210061</td>\n",
       "      <td>-43.0</td>\n",
       "      <td>-5.00</td>\n",
       "      <td>-2.0</td>\n",
       "      <td>11.00</td>\n",
       "      <td>1301.0</td>\n",
       "    </tr>\n",
       "    <tr>\n",
       "      <th>arr_time</th>\n",
       "      <td>328063.0</td>\n",
       "      <td>1502.054999</td>\n",
       "      <td>533.264132</td>\n",
       "      <td>1.0</td>\n",
       "      <td>1104.00</td>\n",
       "      <td>1535.0</td>\n",
       "      <td>1940.00</td>\n",
       "      <td>2400.0</td>\n",
       "    </tr>\n",
       "    <tr>\n",
       "      <th>sched_arr_time</th>\n",
       "      <td>336776.0</td>\n",
       "      <td>1536.380220</td>\n",
       "      <td>497.457142</td>\n",
       "      <td>1.0</td>\n",
       "      <td>1124.00</td>\n",
       "      <td>1556.0</td>\n",
       "      <td>1945.00</td>\n",
       "      <td>2359.0</td>\n",
       "    </tr>\n",
       "    <tr>\n",
       "      <th>arr_delay</th>\n",
       "      <td>327346.0</td>\n",
       "      <td>6.895377</td>\n",
       "      <td>44.633292</td>\n",
       "      <td>-86.0</td>\n",
       "      <td>-17.00</td>\n",
       "      <td>-5.0</td>\n",
       "      <td>14.00</td>\n",
       "      <td>1272.0</td>\n",
       "    </tr>\n",
       "    <tr>\n",
       "      <th>flight</th>\n",
       "      <td>336776.0</td>\n",
       "      <td>1971.923620</td>\n",
       "      <td>1632.471938</td>\n",
       "      <td>1.0</td>\n",
       "      <td>553.00</td>\n",
       "      <td>1496.0</td>\n",
       "      <td>3465.00</td>\n",
       "      <td>8500.0</td>\n",
       "    </tr>\n",
       "    <tr>\n",
       "      <th>air_time</th>\n",
       "      <td>327346.0</td>\n",
       "      <td>150.686460</td>\n",
       "      <td>93.688305</td>\n",
       "      <td>20.0</td>\n",
       "      <td>82.00</td>\n",
       "      <td>129.0</td>\n",
       "      <td>192.00</td>\n",
       "      <td>695.0</td>\n",
       "    </tr>\n",
       "    <tr>\n",
       "      <th>distance</th>\n",
       "      <td>336776.0</td>\n",
       "      <td>1039.912604</td>\n",
       "      <td>733.233033</td>\n",
       "      <td>17.0</td>\n",
       "      <td>502.00</td>\n",
       "      <td>872.0</td>\n",
       "      <td>1389.00</td>\n",
       "      <td>4983.0</td>\n",
       "    </tr>\n",
       "    <tr>\n",
       "      <th>hour</th>\n",
       "      <td>336776.0</td>\n",
       "      <td>13.180247</td>\n",
       "      <td>4.661316</td>\n",
       "      <td>1.0</td>\n",
       "      <td>9.00</td>\n",
       "      <td>13.0</td>\n",
       "      <td>17.00</td>\n",
       "      <td>23.0</td>\n",
       "    </tr>\n",
       "    <tr>\n",
       "      <th>minute</th>\n",
       "      <td>336776.0</td>\n",
       "      <td>26.230100</td>\n",
       "      <td>19.300846</td>\n",
       "      <td>0.0</td>\n",
       "      <td>8.00</td>\n",
       "      <td>29.0</td>\n",
       "      <td>44.00</td>\n",
       "      <td>59.0</td>\n",
       "    </tr>\n",
       "  </tbody>\n",
       "</table>\n",
       "</div>"
      ],
      "text/plain": [
       "                   count           mean           std     min       25%  \\\n",
       "id              336776.0  168387.500000  97219.001466     0.0  84193.75   \n",
       "year            336776.0    2013.000000      0.000000  2013.0   2013.00   \n",
       "month           336776.0       6.548510      3.414457     1.0      4.00   \n",
       "day             336776.0      15.710787      8.768607     1.0      8.00   \n",
       "dep_time        328521.0    1349.109947    488.281791     1.0    907.00   \n",
       "sched_dep_time  336776.0    1344.254840    467.335756   106.0    906.00   \n",
       "dep_delay       328521.0      12.639070     40.210061   -43.0     -5.00   \n",
       "arr_time        328063.0    1502.054999    533.264132     1.0   1104.00   \n",
       "sched_arr_time  336776.0    1536.380220    497.457142     1.0   1124.00   \n",
       "arr_delay       327346.0       6.895377     44.633292   -86.0    -17.00   \n",
       "flight          336776.0    1971.923620   1632.471938     1.0    553.00   \n",
       "air_time        327346.0     150.686460     93.688305    20.0     82.00   \n",
       "distance        336776.0    1039.912604    733.233033    17.0    502.00   \n",
       "hour            336776.0      13.180247      4.661316     1.0      9.00   \n",
       "minute          336776.0      26.230100     19.300846     0.0      8.00   \n",
       "\n",
       "                     50%        75%       max  \n",
       "id              168387.5  252581.25  336775.0  \n",
       "year              2013.0    2013.00    2013.0  \n",
       "month                7.0      10.00      12.0  \n",
       "day                 16.0      23.00      31.0  \n",
       "dep_time          1401.0    1744.00    2400.0  \n",
       "sched_dep_time    1359.0    1729.00    2359.0  \n",
       "dep_delay           -2.0      11.00    1301.0  \n",
       "arr_time          1535.0    1940.00    2400.0  \n",
       "sched_arr_time    1556.0    1945.00    2359.0  \n",
       "arr_delay           -5.0      14.00    1272.0  \n",
       "flight            1496.0    3465.00    8500.0  \n",
       "air_time           129.0     192.00     695.0  \n",
       "distance           872.0    1389.00    4983.0  \n",
       "hour                13.0      17.00      23.0  \n",
       "minute              29.0      44.00      59.0  "
      ]
     },
     "execution_count": 12,
     "metadata": {},
     "output_type": "execute_result"
    }
   ],
   "source": [
    "df.describe().transpose()"
   ]
  },
  {
   "cell_type": "markdown",
   "id": "4e87e239-2c08-4e4f-9b9d-e28471c683c1",
   "metadata": {
    "jp-MarkdownHeadingCollapsed": true
   },
   "source": [
    "## Domestic AIRLINES Market Leaders"
   ]
  },
  {
   "cell_type": "code",
   "execution_count": 28,
   "id": "8210d894-5dec-466f-9982-93e79c51dd7d",
   "metadata": {
    "scrolled": true
   },
   "outputs": [
    {
     "data": {
      "text/plain": [
       "name\n",
       "United Air Lines Inc.          57782\n",
       "JetBlue Airways                54049\n",
       "ExpressJet Airlines Inc.       51108\n",
       "Delta Air Lines Inc.           47658\n",
       "American Airlines Inc.         31947\n",
       "Envoy Air                      25037\n",
       "US Airways Inc.                19831\n",
       "Endeavor Air Inc.              17294\n",
       "Southwest Airlines Co.         12044\n",
       "Virgin America                  5116\n",
       "AirTran Airways Corporation     3175\n",
       "Alaska Airlines Inc.             709\n",
       "Frontier Airlines Inc.           681\n",
       "Mesa Airlines Inc.               544\n",
       "Hawaiian Airlines Inc.           342\n",
       "SkyWest Airlines Inc.             29\n",
       "Name: count, dtype: int64"
      ]
     },
     "execution_count": 28,
     "metadata": {},
     "output_type": "execute_result"
    },
    {
     "data": {
      "image/png": "[encoded data removed]",
      "text/plain": [
       "<Figure size 640x480 with 1 Axes>"
      ]
     },
     "metadata": {},
     "output_type": "display_data"
    }
   ],
   "source": [
    "df.value_counts().groupby('name').count().sort_values(ascending=True).plot(kind='barh')\n",
    "df.value_counts().groupby('name').count().sort_values(ascending=False)"
   ]
  },
  {
   "cell_type": "markdown",
   "id": "da3a88ee-5b9f-46b3-abf8-175abb397e08",
   "metadata": {
    "jp-MarkdownHeadingCollapsed": true
   },
   "source": [
    "## Number of Flights, distributed over 12 months of year 2013"
   ]
  },
  {
   "cell_type": "code",
   "execution_count": 38,
   "id": "b7c859ed-f09b-4fc5-8331-d4ba37a5439d",
   "metadata": {
    "scrolled": true
   },
   "outputs": [
    {
     "name": "stdout",
     "output_type": "stream",
     "text": [
      "month                            1      2      3      4      5      6      7  \\\n",
      "AirTran Airways Corporation    328    296    316    311    325    252    263   \n",
      "Alaska Airlines Inc.            62     56     62     60     62     60     62   \n",
      "American Airlines Inc.        2794   2517   2787   2722   2803   2757   2882   \n",
      "Delta Air Lines Inc.          3690   3444   4189   4092   4082   4126   4251   \n",
      "Endeavor Air Inc.             1573   1459   1627   1511   1462   1437   1494   \n",
      "Envoy Air                     2271   2044   2256   2211   2284   2178   2261   \n",
      "ExpressJet Airlines Inc.      4171   3827   4726   4561   4817   4456   4641   \n",
      "Frontier Airlines Inc.          59     49     57     57     58     55     58   \n",
      "Hawaiian Airlines Inc.          31     28     31     30     31     30     31   \n",
      "JetBlue Airways               4427   4103   4772   4517   4576   4622   4984   \n",
      "Mesa Airlines Inc.              46     48     18     38     49     49     81   \n",
      "SkyWest Airlines Inc.            1      0      0      0      0      2      0   \n",
      "Southwest Airlines Co.         996    911    998    980   1006   1028   1076   \n",
      "US Airways Inc.               1602   1552   1721   1727   1785   1736   1786   \n",
      "United Air Lines Inc.         4637   4346   4971   5047   4960   4975   5066   \n",
      "Virgin America                 316    271    303    466    496    480    489   \n",
      "Total by Month               27004  24951  28834  28330  28796  28243  29425   \n",
      "\n",
      "month                            8      9     10     11     12   Total  \n",
      "AirTran Airways Corporation    263    255    236    202    213    3260  \n",
      "Alaska Airlines Inc.            62     60     62     52     54     714  \n",
      "American Airlines Inc.        2856   2614   2715   2577   2705   32729  \n",
      "Delta Air Lines Inc.          4318   3883   4093   3849   4093   48110  \n",
      "Endeavor Air Inc.             1456   1540   1673   1595   1633   18460  \n",
      "Envoy Air                     2263   2206   2228   2056   2139   26397  \n",
      "ExpressJet Airlines Inc.      4563   4725   4908   4471   4307   54173  \n",
      "Frontier Airlines Inc.          55     58     57     61     61     685  \n",
      "Hawaiian Airlines Inc.          31     25     21     25     28     342  \n",
      "JetBlue Airways               4952   4291   4361   4289   4741   54635  \n",
      "Mesa Airlines Inc.              65     42     66     49     50     601  \n",
      "SkyWest Airlines Inc.            4     20      0      5      0      32  \n",
      "Southwest Airlines Co.        1047   1010   1091   1033   1099   12275  \n",
      "US Airways Inc.               1779   1698   1846   1699   1605   20536  \n",
      "United Air Lines Inc.         5124   4694   5060   4854   4931   58665  \n",
      "Virgin America                 489    453    472    451    476    5162  \n",
      "Total by Month               29327  27574  28889  27268  28135  336776  \n"
     ]
    }
   ],
   "source": [
    "pivot_month_name = pd.pivot_table(df, values='id', index='name', columns='month', aggfunc='count', fill_value=0)\n",
    "pivot_month_name['Total'] = pivot_month_name.sum(axis=1)\n",
    "total_row = pivot_month_name.sum(axis=0)\n",
    "total_row.name = 'Total by Month'\n",
    "pivot_month_name = pd.concat([pivot_month_name, total_row.to_frame().T])\n",
    "print(pivot_month_name)"
   ]
  },
  {
   "cell_type": "code",
   "execution_count": 48,
   "id": "d1fb8c70-5a1e-4a41-af61-4d919cdf0679",
   "metadata": {
    "scrolled": true
   },
   "outputs": [
    {
     "data": {
      "text/plain": [
       "<Axes: xlabel='month'>"
      ]
     },
     "execution_count": 48,
     "metadata": {},
     "output_type": "execute_result"
    },
    {
     "data": {
      "image/png": "[encoded data removed]",
      "text/plain": [
       "<Figure size 640x480 with 1 Axes>"
      ]
     },
     "metadata": {},
     "output_type": "display_data"
    }
   ],
   "source": [
    "df[['id','month']].value_counts().groupby('month').sum().plot(kind='line')"
   ]
  },
  {
   "cell_type": "markdown",
   "id": "766e70be-ded9-46fe-8be4-77d778d89359",
   "metadata": {
    "jp-MarkdownHeadingCollapsed": true
   },
   "source": [
    "## Total air_time, distance travelled by each Airline, for the year 2013"
   ]
  },
  {
   "cell_type": "code",
   "execution_count": 156,
   "id": "48f1193c-d52e-4924-a790-d771a0743dab",
   "metadata": {
    "scrolled": true
   },
   "outputs": [
    {
     "name": "stdout",
     "output_type": "stream",
     "text": [
      "                           name    air_time  distance\n",
      "0         United Air Lines Inc.  12237728.0  89705524\n",
      "1          Delta Air Lines Inc.   8277661.0  59507317\n",
      "2               JetBlue Airways   8170975.0  58384137\n",
      "3        American Airlines Inc.   6032306.0  43864584\n",
      "4      ExpressJet Airlines Inc.   4603614.0  30498951\n",
      "5                     Envoy Air   2282880.0  15033955\n",
      "6                Virgin America   1724104.0  12902327\n",
      "7        Southwest Airlines Co.   1780402.0  12229203\n",
      "8               US Airways Inc.   1756507.0  11365778\n",
      "9             Endeavor Air Inc.   1500801.0   9788152\n",
      "10  AirTran Airways Corporation    321132.0   2167344\n",
      "11         Alaska Airlines Inc.    230863.0   1715028\n",
      "12       Hawaiian Airlines Inc.    213096.0   1704186\n",
      "13       Frontier Airlines Inc.    156357.0   1109700\n",
      "14           Mesa Airlines Inc.     35763.0    225395\n",
      "15        SkyWest Airlines Inc.      2421.0     16026\n"
     ]
    }
   ],
   "source": [
    "result = df.groupby('name')[['air_time', 'distance']].sum().sort_values(by=['distance'], ascending=False).reset_index()\n",
    "print(result)"
   ]
  },
  {
   "cell_type": "markdown",
   "id": "66ed226f-28b6-4d8d-9e6e-c73b321bfe85",
   "metadata": {},
   "source": [
    "#### Average Fuel Consumption of a domestic flight = 3000 litres / 100km"
   ]
  },
  {
   "cell_type": "code",
   "execution_count": 157,
   "id": "45f680a4-8c58-4f8f-b868-4c25409dde51",
   "metadata": {},
   "outputs": [],
   "source": [
    "result['Jet A-1 Fuel Consumed (in 10^6 Litres)'] = ((result['distance']/100)*3000)/1000000"
   ]
  },
  {
   "cell_type": "markdown",
   "id": "5e14ad42-ffb5-420e-ba38-913140ec2ee1",
   "metadata": {},
   "source": [
    "#### CO2 Emission = Fuel Mass * Fuel Density(=0.8) * Carbon_Emission_Factor(=3.15 kg for Jet A-1 Fuel)"
   ]
  },
  {
   "cell_type": "code",
   "execution_count": 158,
   "id": "d5b39f70-3cf4-40b0-b896-2b71992b94ce",
   "metadata": {},
   "outputs": [],
   "source": [
    "result['CO2 Emission (in 10^6 KG)'] = result['Jet A-1 Fuel Consumed (in 10^6 Litres)']*0.8*3.15"
   ]
  },
  {
   "cell_type": "markdown",
   "id": "d7dd96d8-8041-408d-9d75-f4c21c9fa6a1",
   "metadata": {},
   "source": [
    "## Total CO2 emission, for each airline"
   ]
  },
  {
   "cell_type": "code",
   "execution_count": 162,
   "id": "014cedfe-4e3d-464f-90c0-2f91fe187066",
   "metadata": {},
   "outputs": [],
   "source": [
    "total_row = result.sum(axis=0)\n",
    "result = pd.concat([result, total_row.to_frame().T])"
   ]
  },
  {
   "cell_type": "code",
   "execution_count": 163,
   "id": "3501a0a7-7b06-4952-a96e-630f6b74f97a",
   "metadata": {
    "scrolled": true
   },
   "outputs": [
    {
     "name": "stdout",
     "output_type": "stream",
     "text": [
      "                                                 name    air_time   distance  \\\n",
      "0                               United Air Lines Inc.  12237728.0   89705524   \n",
      "1                                Delta Air Lines Inc.   8277661.0   59507317   \n",
      "2                                     JetBlue Airways   8170975.0   58384137   \n",
      "3                              American Airlines Inc.   6032306.0   43864584   \n",
      "4                            ExpressJet Airlines Inc.   4603614.0   30498951   \n",
      "5                                           Envoy Air   2282880.0   15033955   \n",
      "6                                      Virgin America   1724104.0   12902327   \n",
      "7                              Southwest Airlines Co.   1780402.0   12229203   \n",
      "8                                     US Airways Inc.   1756507.0   11365778   \n",
      "9                                   Endeavor Air Inc.   1500801.0    9788152   \n",
      "10                        AirTran Airways Corporation    321132.0    2167344   \n",
      "11                               Alaska Airlines Inc.    230863.0    1715028   \n",
      "12                             Hawaiian Airlines Inc.    213096.0    1704186   \n",
      "13                             Frontier Airlines Inc.    156357.0    1109700   \n",
      "14                                 Mesa Airlines Inc.     35763.0     225395   \n",
      "15                              SkyWest Airlines Inc.      2421.0      16026   \n",
      "0   United Air Lines Inc.Delta Air Lines Inc.JetBl...  49326610.0  350217607   \n",
      "\n",
      "   Jet A-1 Fuel Consumed (in 10^6 Litres) CO2 Emission (in 10^6 KG)  \n",
      "0                              2691.16572               6781.737614  \n",
      "1                              1785.21951               4498.753165  \n",
      "2                              1751.52411               4413.840757  \n",
      "3                              1315.93752                3316.16255  \n",
      "4                               914.96853               2305.720696  \n",
      "5                               451.01865               1136.566998  \n",
      "6                               387.06981                975.415921  \n",
      "7                               366.87609                924.527747  \n",
      "8                               340.97334                859.252817  \n",
      "9                               293.64456                739.984291  \n",
      "10                               65.02032                163.851206  \n",
      "11                               51.45084                129.656117  \n",
      "12                               51.12558                128.836462  \n",
      "13                                 33.291                  83.89332  \n",
      "14                                6.76185                 17.039862  \n",
      "15                                0.48078                  1.211566  \n",
      "0                             10506.52821              26476.451089  \n"
     ]
    }
   ],
   "source": [
    "print(result)"
   ]
  },
  {
   "cell_type": "markdown",
   "id": "31c4ca41-50cc-47f5-b574-7e0d1bc72414",
   "metadata": {
    "jp-MarkdownHeadingCollapsed": true
   },
   "source": [
    "## Total CO2 Emission ~ 2,647,645,108 kgs (Only for a small fraction of flights on our planet)\n",
    "## Save EARTH <3"
   ]
  },
  {
   "cell_type": "markdown",
   "id": "59040566-6e52-4b3d-8054-de10c4c1e3bb",
   "metadata": {
    "jp-MarkdownHeadingCollapsed": true
   },
   "source": [
    "## For the MAP,"
   ]
  },
  {
   "cell_type": "markdown",
   "id": "34e64b63-0fb4-486e-8648-f8e197723c7d",
   "metadata": {},
   "source": [
    "### For the below .csv file, I scraped a site for IATA Codes. Idk about legality, but for this project, it's a very small amount of data. PS: Sorry Gcmap :("
   ]
  },
  {
   "cell_type": "code",
   "execution_count": 102,
   "id": "fe331424-e598-4d11-9f43-59869d125a1d",
   "metadata": {},
   "outputs": [],
   "source": [
    "airport_data = pd.read_csv('Airport_Latitude_Longitude.csv')"
   ]
  },
  {
   "cell_type": "code",
   "execution_count": 122,
   "id": "b707a030-6727-4ba9-b202-015eedb47c24",
   "metadata": {},
   "outputs": [
    {
     "data": {
      "text/html": [
       "<div>\n",
       "<style scoped>\n",
       "    .dataframe tbody tr th:only-of-type {\n",
       "        vertical-align: middle;\n",
       "    }\n",
       "\n",
       "    .dataframe tbody tr th {\n",
       "        vertical-align: top;\n",
       "    }\n",
       "\n",
       "    .dataframe thead th {\n",
       "        text-align: right;\n",
       "    }\n",
       "</style>\n",
       "<table border=\"1\" class=\"dataframe\">\n",
       "  <thead>\n",
       "    <tr style=\"text-align: right;\">\n",
       "      <th></th>\n",
       "      <th>dest_iata</th>\n",
       "      <th>Latitude</th>\n",
       "      <th>Longitude</th>\n",
       "    </tr>\n",
       "  </thead>\n",
       "  <tbody>\n",
       "    <tr>\n",
       "      <th>0</th>\n",
       "      <td>IAH</td>\n",
       "      <td>29.984435</td>\n",
       "      <td>-95.341442</td>\n",
       "    </tr>\n",
       "    <tr>\n",
       "      <th>1</th>\n",
       "      <td>MIA</td>\n",
       "      <td>25.795361</td>\n",
       "      <td>-80.290115</td>\n",
       "    </tr>\n",
       "    <tr>\n",
       "      <th>2</th>\n",
       "      <td>BQN</td>\n",
       "      <td>18.494861</td>\n",
       "      <td>-67.129443</td>\n",
       "    </tr>\n",
       "    <tr>\n",
       "      <th>3</th>\n",
       "      <td>ATL</td>\n",
       "      <td>33.636700</td>\n",
       "      <td>-84.427863</td>\n",
       "    </tr>\n",
       "    <tr>\n",
       "      <th>4</th>\n",
       "      <td>ORD</td>\n",
       "      <td>41.976940</td>\n",
       "      <td>-87.908149</td>\n",
       "    </tr>\n",
       "  </tbody>\n",
       "</table>\n",
       "</div>"
      ],
      "text/plain": [
       "  dest_iata   Latitude  Longitude\n",
       "0       IAH  29.984435 -95.341442\n",
       "1       MIA  25.795361 -80.290115\n",
       "2       BQN  18.494861 -67.129443\n",
       "3       ATL  33.636700 -84.427863\n",
       "4       ORD  41.976940 -87.908149"
      ]
     },
     "execution_count": 122,
     "metadata": {},
     "output_type": "execute_result"
    }
   ],
   "source": [
    "airport_data.head()"
   ]
  },
  {
   "cell_type": "code",
   "execution_count": 121,
   "id": "dc820a2c-e331-4ac5-a8e8-0a2e688e950b",
   "metadata": {},
   "outputs": [],
   "source": [
    "airport_data.rename(columns={'dest_data':'dest_iata'}, inplace=True)"
   ]
  },
  {
   "cell_type": "code",
   "execution_count": 105,
   "id": "92ed5003-d579-48b5-ac47-4033bb9b77e6",
   "metadata": {},
   "outputs": [],
   "source": [
    "flights = df[['id', 'name', 'origin', 'dest']]"
   ]
  },
  {
   "cell_type": "code",
   "execution_count": 106,
   "id": "3d498e9c-feb8-4c43-89ad-7cf3cce1cc6b",
   "metadata": {
    "collapsed": true,
    "jupyter": {
     "outputs_hidden": true
    },
    "scrolled": true
   },
   "outputs": [
    {
     "name": "stderr",
     "output_type": "stream",
     "text": [
      "C:\\Users\\adity\\AppData\\Local\\Temp\\ipykernel_18224\\597810733.py:1: SettingWithCopyWarning: \n",
      "A value is trying to be set on a copy of a slice from a DataFrame.\n",
      "Try using .loc[row_indexer,col_indexer] = value instead\n",
      "\n",
      "See the caveats in the documentation: https://pandas.pydata.org/pandas-docs/stable/user_guide/indexing.html#returning-a-view-versus-a-copy\n",
      "  flights['origin_iata'] = flights['origin']\n",
      "C:\\Users\\adity\\AppData\\Local\\Temp\\ipykernel_18224\\597810733.py:2: SettingWithCopyWarning: \n",
      "A value is trying to be set on a copy of a slice from a DataFrame.\n",
      "Try using .loc[row_indexer,col_indexer] = value instead\n",
      "\n",
      "See the caveats in the documentation: https://pandas.pydata.org/pandas-docs/stable/user_guide/indexing.html#returning-a-view-versus-a-copy\n",
      "  flights['dest_iata'] = flights['dest']\n"
     ]
    }
   ],
   "source": [
    "flights['origin_iata'] = flights['origin']\n",
    "flights['dest_iata'] = flights['dest']"
   ]
  },
  {
   "cell_type": "code",
   "execution_count": 123,
   "id": "4f41be41-463e-4034-b638-7d31558765f4",
   "metadata": {
    "scrolled": true
   },
   "outputs": [],
   "source": [
    "flights = flights.merge(airport_data, on='dest_iata', how='left')"
   ]
  },
  {
   "cell_type": "code",
   "execution_count": 125,
   "id": "1b32a1ec-d268-413b-9360-705da5ceb69a",
   "metadata": {},
   "outputs": [],
   "source": [
    "flights.rename(columns={\"Latitude\":\"Destination_Latitude\", \"Longitude\":\"Destination_Longitude\"}, inplace=True)"
   ]
  },
  {
   "cell_type": "code",
   "execution_count": 126,
   "id": "2a771247-37f1-49f3-bc1f-9bbd9ac92b39",
   "metadata": {},
   "outputs": [
    {
     "data": {
      "text/html": [
       "<div>\n",
       "<style scoped>\n",
       "    .dataframe tbody tr th:only-of-type {\n",
       "        vertical-align: middle;\n",
       "    }\n",
       "\n",
       "    .dataframe tbody tr th {\n",
       "        vertical-align: top;\n",
       "    }\n",
       "\n",
       "    .dataframe thead th {\n",
       "        text-align: right;\n",
       "    }\n",
       "</style>\n",
       "<table border=\"1\" class=\"dataframe\">\n",
       "  <thead>\n",
       "    <tr style=\"text-align: right;\">\n",
       "      <th></th>\n",
       "      <th>id</th>\n",
       "      <th>name</th>\n",
       "      <th>origin</th>\n",
       "      <th>dest</th>\n",
       "      <th>origin_iata</th>\n",
       "      <th>dest_iata</th>\n",
       "      <th>Origin_Latitude</th>\n",
       "      <th>Origin_Longitude</th>\n",
       "      <th>Destination_Latitude</th>\n",
       "      <th>Destination_Longitude</th>\n",
       "    </tr>\n",
       "  </thead>\n",
       "  <tbody>\n",
       "    <tr>\n",
       "      <th>0</th>\n",
       "      <td>0</td>\n",
       "      <td>United Air Lines Inc.</td>\n",
       "      <td>EWR</td>\n",
       "      <td>IAH</td>\n",
       "      <td>EWR</td>\n",
       "      <td>IAH</td>\n",
       "      <td>40.692480</td>\n",
       "      <td>-74.168686</td>\n",
       "      <td>29.984435</td>\n",
       "      <td>-95.341442</td>\n",
       "    </tr>\n",
       "    <tr>\n",
       "      <th>1</th>\n",
       "      <td>1</td>\n",
       "      <td>United Air Lines Inc.</td>\n",
       "      <td>LGA</td>\n",
       "      <td>IAH</td>\n",
       "      <td>LGA</td>\n",
       "      <td>IAH</td>\n",
       "      <td>40.777242</td>\n",
       "      <td>-73.872605</td>\n",
       "      <td>29.984435</td>\n",
       "      <td>-95.341442</td>\n",
       "    </tr>\n",
       "    <tr>\n",
       "      <th>2</th>\n",
       "      <td>2</td>\n",
       "      <td>American Airlines Inc.</td>\n",
       "      <td>JFK</td>\n",
       "      <td>MIA</td>\n",
       "      <td>JFK</td>\n",
       "      <td>MIA</td>\n",
       "      <td>40.639928</td>\n",
       "      <td>-73.778691</td>\n",
       "      <td>25.795361</td>\n",
       "      <td>-80.290115</td>\n",
       "    </tr>\n",
       "    <tr>\n",
       "      <th>3</th>\n",
       "      <td>3</td>\n",
       "      <td>JetBlue Airways</td>\n",
       "      <td>JFK</td>\n",
       "      <td>BQN</td>\n",
       "      <td>JFK</td>\n",
       "      <td>BQN</td>\n",
       "      <td>40.639928</td>\n",
       "      <td>-73.778691</td>\n",
       "      <td>18.494861</td>\n",
       "      <td>-67.129443</td>\n",
       "    </tr>\n",
       "    <tr>\n",
       "      <th>4</th>\n",
       "      <td>4</td>\n",
       "      <td>Delta Air Lines Inc.</td>\n",
       "      <td>LGA</td>\n",
       "      <td>ATL</td>\n",
       "      <td>LGA</td>\n",
       "      <td>ATL</td>\n",
       "      <td>40.777242</td>\n",
       "      <td>-73.872605</td>\n",
       "      <td>33.636700</td>\n",
       "      <td>-84.427863</td>\n",
       "    </tr>\n",
       "  </tbody>\n",
       "</table>\n",
       "</div>"
      ],
      "text/plain": [
       "   id                    name origin dest origin_iata dest_iata  \\\n",
       "0   0   United Air Lines Inc.    EWR  IAH         EWR       IAH   \n",
       "1   1   United Air Lines Inc.    LGA  IAH         LGA       IAH   \n",
       "2   2  American Airlines Inc.    JFK  MIA         JFK       MIA   \n",
       "3   3         JetBlue Airways    JFK  BQN         JFK       BQN   \n",
       "4   4    Delta Air Lines Inc.    LGA  ATL         LGA       ATL   \n",
       "\n",
       "   Origin_Latitude  Origin_Longitude  Destination_Latitude  \\\n",
       "0        40.692480        -74.168686             29.984435   \n",
       "1        40.777242        -73.872605             29.984435   \n",
       "2        40.639928        -73.778691             25.795361   \n",
       "3        40.639928        -73.778691             18.494861   \n",
       "4        40.777242        -73.872605             33.636700   \n",
       "\n",
       "   Destination_Longitude  \n",
       "0             -95.341442  \n",
       "1             -95.341442  \n",
       "2             -80.290115  \n",
       "3             -67.129443  \n",
       "4             -84.427863  "
      ]
     },
     "execution_count": 126,
     "metadata": {},
     "output_type": "execute_result"
    }
   ],
   "source": [
    "flights.head()"
   ]
  },
  {
   "cell_type": "code",
   "execution_count": 127,
   "id": "c876d21a-27cc-45b2-8bab-fce889e22e10",
   "metadata": {},
   "outputs": [
    {
     "data": {
      "text/plain": [
       "(336776, 10)"
      ]
     },
     "execution_count": 127,
     "metadata": {},
     "output_type": "execute_result"
    }
   ],
   "source": [
    "flights.shape"
   ]
  },
  {
   "cell_type": "code",
   "execution_count": 130,
   "id": "54be2e8e-2fdf-4a1b-a7d0-32220404a751",
   "metadata": {},
   "outputs": [],
   "source": [
    "import folium"
   ]
  },
  {
   "cell_type": "markdown",
   "id": "4973c5b3-49cf-4313-9aa1-b9afec48734a",
   "metadata": {
    "jp-MarkdownHeadingCollapsed": true
   },
   "source": [
    "### We shall sample 2000 random flights, to save on rendering time"
   ]
  },
  {
   "cell_type": "code",
   "execution_count": 133,
   "id": "613e940b-35e1-4aea-b5ec-46395c545d40",
   "metadata": {},
   "outputs": [],
   "source": [
    "data = flights\n",
    "data = data.sample(n=2000, random_state=1)\n",
    "mean_lat = data['Origin_Latitude'].mean()\n",
    "mean_lon = data['Origin_Longitude'].mean()\n",
    "m = folium.Map(location=[mean_lat, mean_lon], zoom_start=2)\n",
    "\n",
    "# Function to add lines between points\n",
    "def add_lines(row):\n",
    "    folium.PolyLine(\n",
    "        locations=[(row['Origin_Latitude'], row['Origin_Longitude']),\n",
    "                   (row['Destination_Latitude'], row['Destination_Longitude'])],\n",
    "        color='blue', weight=1.5, opacity=0.5\n",
    "    ).add_to(m)\n",
    "\n",
    "# Apply the function to each row (considering performance)\n",
    "for _, row in data.iterrows():\n",
    "    add_lines(row)\n",
    "\n",
    "# Save the map to an HTML file\n",
    "m.save('flight_routes_map.html')\n"
   ]
  },
  {
   "cell_type": "code",
   "execution_count": null,
   "id": "f7092ed2-e3a4-46aa-86c8-75e6be6637ea",
   "metadata": {},
   "outputs": [],
   "source": []
  }
 ],
 "metadata": {
  "kernelspec": {
   "display_name": "Python 3 (ipykernel)",
   "language": "python",
   "name": "python3"
  },
  "language_info": {
   "codemirror_mode": {
    "name": "ipython",
    "version": 3
   },
   "file_extension": ".py",
   "mimetype": "text/x-python",
   "name": "python",
   "nbconvert_exporter": "python",
   "pygments_lexer": "ipython3",
   "version": "3.12.6"
  }
 },
 "nbformat": 4,
 "nbformat_minor": 5
}
